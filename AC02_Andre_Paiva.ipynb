{
 "cells": [
  {
   "cell_type": "markdown",
   "metadata": {
    "id": "4iF1t9GMy1Sz"
   },
   "source": [
    "# **Atividade Computacional 02 - TEEC III**\n",
    "## **Aluno: André Paiva Conrado Rodrigues**"
   ]
  },
  {
   "cell_type": "markdown",
   "metadata": {
    "id": "MiGKE1UHF_GZ"
   },
   "source": [
    "## Importando bibliotecas\n",
    "\n",
    "Nesta seção do código, são importadas bibliotecas de manipulação de dados importantes para a obtenção das amostras dos arquivos de áudio, bem como para a manipulação das mesmas.\n",
    "\n",
    "São utilizadas as bibiliotecas `scipy` para cálculo dos dados do espectrograma e para cálculo da FFT e `matplotlib` para plotagem de gráficos e do espectrograma.\n"
   ]
  },
  {
   "cell_type": "code",
   "execution_count": null,
   "metadata": {
    "id": "iXI80X73GGg7"
   },
   "outputs": [],
   "source": [
    "import numpy as np\n",
    "import math\n",
    "from scipy import signal, fft\n",
    "from scipy.io import wavfile\n",
    "import matplotlib.pyplot as plt"
   ]
  },
  {
   "cell_type": "markdown",
   "metadata": {},
   "source": [
    "## Função para separação de arquivos stereo\n",
    "\n",
    "Para tornar as funções compatíveis com arquivos de áudio stereo, desenvolvi essa função para separar o np.array resultante da leitura do arquivo em dois np.arrays, um para cada canal.\n",
    "\n",
    "Esta função é utilizada tanto para a plotagem de espectrogramas quanto para as funções de detecção de onsets."
   ]
  },
  {
   "cell_type": "code",
   "execution_count": null,
   "metadata": {},
   "outputs": [],
   "source": [
    "def separa_stereo(data_np_array):\n",
    "    cont = 0\n",
    "    tmpListDataL = []\n",
    "    tmpListDataR = []\n",
    "    while cont < data_np_array.shape[0]:\n",
    "        tmpListDataL.append(data_np_array[cont][0])\n",
    "        tmpListDataR.append(data_np_array[cont][1])\n",
    "        cont = cont + 1\n",
    "    dataL = np.array(tmpListDataL)\n",
    "    dataR = np.array(tmpListDataR) \n",
    "    return dataL, dataR"
   ]
  },
  {
   "cell_type": "markdown",
   "metadata": {},
   "source": [
    "## Espectrograma\n",
    "\n",
    "> O espectrograma é uma espécie de gráfico que possibilita visualizar a densidade energética no espectro, ou seja, a intensidade da presença de uma determinada frequência em um sinal ao longo do tempo.\n",
    "\n",
    "### Traçando espectrogramas\n",
    "\n",
    "No trecho de código abaixo, é definida a função `spectro`, que tem por função geral:\n",
    "* Importar o arquivo `.wav`;\n",
    "* Ler tamanho de janela definida pelo usuário (é utilizada a janela Hann);\n",
    "* Definir se o arquivo é mono ou stereo e separar os canais caso seja stereo;\n",
    "* Plotar o espectrograma (caso o arquivo seja stereo, é plotado um espectrograma para cada canal).\n",
    "\n",
    "Para a plotagem do espectrograma propriamente dita, foi definida a função `spectroPlot`, que utiliza diretamente comandos das bibliotecas `scipy` e `matplotlib`. Esta função é chamada dentro da função `spectro`."
   ]
  },
  {
   "cell_type": "code",
   "execution_count": null,
   "metadata": {},
   "outputs": [],
   "source": [
    "def spectroPlot(audioArray, rate, windowSize, vmin, vmax, title):\n",
    "    f, t, Sxx = signal.spectrogram(audioArray, rate, nperseg=windowSize)\n",
    "    plt.figure(figsize=(20,5))\n",
    "    plt.pcolormesh(t, f, np.abs(Sxx), shading='flat', cmap='PRGn', vmin=vmin, vmax=vmax)\n",
    "    plt.title(title)\n",
    "    plt.ylabel('Frequência [Hz]')\n",
    "    plt.xlabel('Tempo [s]')\n",
    "    plt.colorbar()\n",
    "    plt.show()\n",
    "    \n",
    "def spectro(file, windowSize):\n",
    "    filename = file\n",
    "    vmin = 0\n",
    "    vmax = 1023\n",
    "    samplerate, data = wavfile.read(filename)\n",
    "    qtdSamples = data.shape[0]\n",
    "    if(data.ndim == 2):\n",
    "        dataL, dataR = separa_stereo(data)  \n",
    "    if(data.ndim == 2):\n",
    "        spectroPlot(dataL, samplerate, windowSize, vmin, vmax, 'Espectrograma do Canal L')\n",
    "        spectroPlot(dataR, samplerate, windowSize, vmin, vmax, 'Espectrograma do Canal R')\n",
    "        del dataL, dataR\n",
    "    else:\n",
    "        spectroPlot(data, samplerate, windowSize, vmin, vmax, 'Espectrograma do Sinal')\n",
    "        del data"
   ]
  },
  {
   "cell_type": "markdown",
   "metadata": {},
   "source": [
    "## Plotagem de espectrograma de arquivo mono"
   ]
  },
  {
   "cell_type": "code",
   "execution_count": null,
   "metadata": {},
   "outputs": [],
   "source": [
    "file = 'guitar.wav'\n",
    "spectro(file, 512)"
   ]
  },
  {
   "cell_type": "markdown",
   "metadata": {},
   "source": [
    "## Plotagem de espectrogramas de arquivo stereo"
   ]
  },
  {
   "cell_type": "code",
   "execution_count": null,
   "metadata": {},
   "outputs": [],
   "source": [
    "file = 'cover_altj_intro.wav'\n",
    "spectro(file, 512)"
   ]
  },
  {
   "cell_type": "markdown",
   "metadata": {},
   "source": [
    "## Função de detecção de onsets (ODF)\n",
    "\n",
    "> Uma função de detecção de onsets é uma função com o objetivo de representar claramente os instantes de um arquivo de áudio onde há uma grande variação de intensidade, indicando que nesses instantes há o início de algum evento específico no áudio, como por exemplo uma batida no bumbo da bateria ou um acorde tocado em um violão.\n",
    "\n",
    "Abaixo, é definida uma função `ODF`, capaz de utilizar tanto o método do conteúdo de alta frequência (HFC) quanto o método da diferença espectral (SD). Foram definidas três funções auxiliares que são utilizadas na função `ODF`.\n",
    "\n",
    "A seguir será dada uma breve explicação sobre cada uma das funções e o embasamento matemático das mesmas."
   ]
  },
  {
   "cell_type": "markdown",
   "metadata": {},
   "source": [
    "### Cálculos pelo método do conteúdo de alta frequência (HFC)\n",
    "\n",
    "Abaixo está a função auxiliar `ODF_HFC_CALC`, responsável pelos cálculos de ODF referentes ao método do conteúdo de alta frequência.\n",
    "\n",
    "Nesta função, estamos aplicando janelas Hann ao longo do sinal `data_np_array` com uma quantidade de amostras `windowSize` e `overlap` definido pelo usuário, e aplicando o método do conteúdo de alta frequência para detecção de onsets.\n",
    "\n",
    "Matematicamente, utilizo a fórmula abaixo para calcular o valor da ODF para cada janela:\n",
    "\n",
    "$$ODF_{HFC}(i) = \\frac{2}{w}\\sum_{k=1}^{w/2}|k| \\cdot |X(i+k)|^2$$\n",
    "\n",
    "Sendo:\n",
    "* $i$ o índice da amostra inicial da janela aplicada no sinal;\n",
    "* $w$ o tamanho da janela (no código, `windowSize`);\n",
    "* $X$ a FFT do sinal de áudio janelado (no código, `ffttmp`).\n",
    "\n",
    "A cada valor de $ODF_{HFC}$ calculado, o índice `i` é incrementado em `windowSize * (1 - overlap)`, e o valor calculado é inserido na lista `hfc_calc`, inicialmente vazia. Após todos os valores serem calculados, tal lista é retornada no final da função.\n",
    "\n",
    "O numpy array `sizerange` foi criado para possibilitar a ponderação de cada amostra com seu respectivo índice, assim como indicado no somatório da fórmula matemática.\n"
   ]
  },
  {
   "cell_type": "code",
   "execution_count": null,
   "metadata": {},
   "outputs": [],
   "source": [
    "def ODF_HFC_CALC(data_np_array, windowSize, overlap):\n",
    "    sizerange = np.arange(1, windowSize+1)\n",
    "    hfc_calc = []\n",
    "    i = 0\n",
    "    while i < data_np_array.shape[0]:\n",
    "        datatmp = data_np_array[i : i + windowSize]\n",
    "        ffttmp = fft.fft(datatmp, n=windowSize)\n",
    "        ffttmp = abs(sizerange)*(abs(ffttmp)**2)\n",
    "        hfc_calc.append(np.sum(abs(ffttmp[0:int(windowSize/2)]))*(2/windowSize))\n",
    "        i = i + int(windowSize*(1-overlap))\n",
    "    return hfc_calc"
   ]
  },
  {
   "cell_type": "markdown",
   "metadata": {},
   "source": [
    "## Cálculos pelo método da diferença espectral (SD)\n",
    "\n",
    "Abaixo está a função auxiliar `ODF_SD_CALC`, responsável pelos cálculos de ODF referentes ao método da diferença espectral.\n",
    "\n",
    "Nesta função, estamos aplicando janelas Hann ao longo do sinal `data_np_array` com uma quantidade de amostras `windowSize` e `overlap` definido pelo usuário, e aplicando o método da diferença espectral para detecção de onsets.\n",
    "\n",
    "Matematicamente, utilizo a fórmula abaixo para calcular o valor da ODF para cada janela:\n",
    "\n",
    "$$ODF_{SD}(i) = \\sum_{k=1}^{w/2}{H[|X(i+k)| - |X(i+k-w)|]}^2$$\n",
    "\n",
    "Sendo:\n",
    "* $i$ o índice da amostra inicial da janela aplicada no sinal;\n",
    "* $w$ o tamanho da janela (no código, `windowSize`);\n",
    "* $X$ a FFT do sinal de áudio janelado (no código, `ffttmp1` para o índice $i+k$ e `ffttmp2` para o índice $i+k-w$);\n",
    "* $H$ uma função de retificação de meia onda: $H[x] = \\frac{x+|x|}{2}$.\n",
    "\n",
    "A cada valor de $ODF_{SD}$ calculado, o índice `i` é incrementado em `windowSize * (1 - overlap)`, e o valor calculado é inserido na lista `sd_calc`, inicialmente vazia. Após todos os valores serem calculados, tal lista é retornada no final da função."
   ]
  },
  {
   "cell_type": "code",
   "execution_count": null,
   "metadata": {},
   "outputs": [],
   "source": [
    "def ODF_SD_CALC(data_np_array, windowSize, overlap):\n",
    "    sd_calc = []\n",
    "    i = 0\n",
    "    while i < data_np_array.shape[0]:\n",
    "        indexOverlapStart = int(i + (windowSize*(1-overlap)))\n",
    "        indexOverlapEnd = int(indexOverlapStart + windowSize)\n",
    "        datatmp1 = data_np_array[i : i+windowSize]\n",
    "        ffttmp1 = fft.fft(datatmp1, n=windowSize)\n",
    "        datatmp2 = data_np_array[indexOverlapStart : indexOverlapEnd]\n",
    "        ffttmp2 = fft.fft(datatmp2, n=windowSize)\n",
    "        diftmp = abs(ffttmp1) - abs(ffttmp2)\n",
    "        diftmp = ((diftmp + abs(diftmp))/2)**2\n",
    "        sd_calc.append(np.sum(abs(diftmp[0:int(windowSize/2)])))\n",
    "        i = i + int(windowSize*(1-overlap))\n",
    "    return sd_calc"
   ]
  },
  {
   "cell_type": "markdown",
   "metadata": {},
   "source": [
    "## Função de plotagem da ODF\n",
    "\n",
    "Foi criada uma função dedicada para plotagem do gráfico utilizando a biblioteca `matplotlib`. Essa função é chamada pela função principal `ODF`, e serve tanto para plotagem de ODF pelo método HFC quanto pelo método SD.\n",
    "\n",
    "São passados 4 argumentos para a função:\n",
    "* `x_axis`, os dados da ODF;\n",
    "* `y_axis`, os timestamps para os dados;\n",
    "* `tipo`, que define se a ODF recebida foi calculada pelo método HFC ou pelo método SD;\n",
    "* `canal`, que define se os dados recebidos são referentes a um áudio `MONO`, canal `L` ou canal `R` de um áudio stereo. Essa informação influencia no título do gráfico plotado.\n",
    "\n",
    "Para cálculos efetuados por HFC, o gráfico é plotado em verde. Para cálculos efetuados por SD, o gráfico é plotado em vermelho."
   ]
  },
  {
   "cell_type": "code",
   "execution_count": null,
   "metadata": {},
   "outputs": [],
   "source": [
    "def ODF_PLOT(x_axis, y_axis, tipo, canal=\"MONO\"):\n",
    "    plt.figure(figsize=(15,5))\n",
    "    plt.margins(0, 0)\n",
    "    graphcolor = 'g'\n",
    "    title = \"ODF - \"\n",
    "    if tipo == \"HFC\":\n",
    "        title = title + \"Método do conteúdo de alta frequência\"\n",
    "        plt.ylabel('Diferença energética')\n",
    "    elif tipo == \"SD\":\n",
    "        title = title + \"Método da diferença espectral\"\n",
    "        plt.ylabel('Diferença espectral')\n",
    "        graphcolor = 'r'\n",
    "    if canal == \"L\":\n",
    "        title = title + \" - Canal Esquerdo\"\n",
    "    elif canal == \"R\":\n",
    "        title = title + \" - Canal Direito\"    \n",
    "    plt.xlabel('Tempo [s]')\n",
    "    plt.title(title)\n",
    "    plt.plot(y_axis, x_axis, graphcolor)\n",
    "    plt.show()"
   ]
  },
  {
   "cell_type": "markdown",
   "metadata": {},
   "source": [
    "## Função ODF generalizada"
   ]
  },
  {
   "cell_type": "code",
   "execution_count": null,
   "metadata": {},
   "outputs": [],
   "source": [
    "def ODF(filename, windowSize, overlap, tipo):\n",
    "    samplerate, data = wavfile.read(filename)\n",
    "    f = samplerate/2\n",
    "    qtdSamples = data.shape[0]\n",
    "    window = signal.windows.hann(windowSize)\n",
    "    maxTimeAxis = qtdSamples/samplerate\n",
    "    stepTimeAxis = (windowSize*(1-overlap))/samplerate\n",
    "    timeAxis = np.arange(0.0, maxTimeAxis, stepTimeAxis)\n",
    "    if(data.ndim == 2):\n",
    "        dataL, dataR = separa_stereo(data)\n",
    "        if tipo == 'HFC':\n",
    "            hfcL = ODF_HFC_CALC(dataL, windowSize, overlap)\n",
    "            ODF_PLOT(hfcL, timeAxis, 'HFC', 'L')\n",
    "            hfcR = ODF_HFC_CALC(dataR, windowSize, overlap)\n",
    "            ODF_PLOT(hfcR, timeAxis, 'HFC', 'R')\n",
    "        elif tipo == 'SD':\n",
    "            sdL = ODF_SD_CALC(dataL, windowSize, overlap)\n",
    "            ODF_PLOT(sdL, timeAxis, 'SD', 'L')\n",
    "            sdR = ODF_SD_CALC(dataR, windowSize, overlap)\n",
    "            ODF_PLOT(sdR, timeAxis, 'SD', 'R')\n",
    "        del dataL, dataR\n",
    "    else:\n",
    "        if tipo == 'HFC':\n",
    "            hfc = ODF_HFC_CALC(data, windowSize, overlap)\n",
    "            ODF_PLOT(hfc, timeAxis, 'HFC') \n",
    "        elif tipo == 'SD':\n",
    "            sd = ODF_SD_CALC(data, windowSize, overlap)\n",
    "            ODF_PLOT(sd, timeAxis, 'SD') \n",
    "        del data"
   ]
  },
  {
   "cell_type": "code",
   "execution_count": null,
   "metadata": {},
   "outputs": [],
   "source": [
    "file = 'bat_jean_100bpm.wav'\n",
    "ODF(file, 2048, 0.5, 'HFC')\n",
    "ODF(file, 2048, 0.5, 'SD')"
   ]
  },
  {
   "cell_type": "code",
   "execution_count": null,
   "metadata": {},
   "outputs": [],
   "source": [
    "file = 'GaitaTese.wav'\n",
    "ODF(file, 4096, 0.5, 'HFC')\n",
    "ODF(file, 4096, 0.5, 'SD')"
   ]
  },
  {
   "cell_type": "code",
   "execution_count": null,
   "metadata": {},
   "outputs": [],
   "source": [
    "file = 'Only Sleeping100bpm(Violao).wav'\n",
    "ODF(file, 16384, 0.5, 'HFC')\n",
    "ODF(file, 16384, 0.5, 'SD')"
   ]
  }
 ],
 "metadata": {
  "colab": {
   "collapsed_sections": [],
   "name": "AC01 - André Paiva.ipynb",
   "provenance": [],
   "toc_visible": true
  },
  "kernelspec": {
   "display_name": "Python 3",
   "language": "python",
   "name": "python3"
  },
  "language_info": {
   "codemirror_mode": {
    "name": "ipython",
    "version": 3
   },
   "file_extension": ".py",
   "mimetype": "text/x-python",
   "name": "python",
   "nbconvert_exporter": "python",
   "pygments_lexer": "ipython3",
   "version": "3.8.3"
  }
 },
 "nbformat": 4,
 "nbformat_minor": 4
}
