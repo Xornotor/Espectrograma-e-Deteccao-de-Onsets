{
 "cells": [
  {
   "cell_type": "markdown",
   "metadata": {
    "id": "4iF1t9GMy1Sz"
   },
   "source": [
    "# **Atividade Computacional 02 - TEEC III**\n",
    "## Aluno: André Paiva Conrado Rodrigues"
   ]
  },
  {
   "cell_type": "markdown",
   "metadata": {
    "id": "MiGKE1UHF_GZ"
   },
   "source": [
    "### Importando bibliotecas\n",
    "\n",
    "Nesta seção do código, são importadas bibliotecas de manipulação de dados importantes para a obtenção das amostras dos arquivos de áudio, bem como para a manipulação das mesmas.\n"
   ]
  },
  {
   "cell_type": "code",
   "execution_count": null,
   "metadata": {
    "id": "iXI80X73GGg7"
   },
   "outputs": [],
   "source": [
    "import numpy as np\n",
    "import math\n",
    "from scipy import signal, fft, ifft\n",
    "from scipy.io import wavfile\n",
    "from IPython.display import Audio\n",
    "import matplotlib.pyplot as plt"
   ]
  },
  {
   "cell_type": "code",
   "execution_count": null,
   "metadata": {},
   "outputs": [],
   "source": [
    "def separa_stereo(data_np_array):\n",
    "    cont = 0\n",
    "    tmpListDataL = []\n",
    "    tmpListDataR = []\n",
    "    while cont < data_np_array.shape[0]:\n",
    "        tmpListDataL.append(data_np_array[cont][0])\n",
    "        tmpListDataR.append(data_np_array[cont][1])\n",
    "        cont = cont + 1\n",
    "    dataL = np.array(tmpListDataL)\n",
    "    dataR = np.array(tmpListDataR) \n",
    "    return dataL, dataR"
   ]
  },
  {
   "cell_type": "markdown",
   "metadata": {},
   "source": [
    "### Traçando espectrogramas\n",
    "\n",
    "No trecho de código abaixo, é definida a função `spectro`, que tem por função geral traçar o espectrograma referente a um determinado arquivo com uma determinada largura de janelamento, ambos parâmetros definidos pelo usuário.\n",
    "\n",
    "Também é definida uma função auxiliar denominada `spectroPlot`, a qual é chamada na função `spectro`, que tem por função plotar o gráfico do espectrograma propriamente dito.\n",
    "\n",
    "Na função `spectro`, é distinguido se o arquivo escolhido pelo usuário é mono ou stereo. Caso o arquivo seja stereo, os dois canais de áudio são separados e duas plotagens serão efetuadas, uma para cada canal. Caso o arquivo seja mono, é feita apenas uma plotagem."
   ]
  },
  {
   "cell_type": "code",
   "execution_count": null,
   "metadata": {},
   "outputs": [],
   "source": [
    "def spectroPlot(audioArray, rate, windowSize, vmin, vmax, title):\n",
    "    f, t, Sxx = signal.spectrogram(audioArray, rate, nperseg=windowSize)\n",
    "    plt.figure(figsize=(20,5))\n",
    "    plt.pcolormesh(t, f, np.abs(Sxx), shading='flat', cmap='PRGn', vmin=vmin, vmax=vmax)\n",
    "    plt.title(title)\n",
    "    plt.ylabel('Frequência [Hz]')\n",
    "    plt.xlabel('Tempo [s]')\n",
    "    plt.colorbar()\n",
    "    plt.show()\n",
    "    \n",
    "def spectro(file, windowSize):\n",
    "    filename = file\n",
    "    vmin = 0\n",
    "    vmax = 1023\n",
    "    samplerate, data = wavfile.read(filename)\n",
    "    qtdSamples = data.shape[0]\n",
    "    if(data.ndim == 2):\n",
    "        dataL, dataR = separa_stereo(data)  \n",
    "    if(data.ndim == 2):\n",
    "        spectroPlot(dataL, samplerate, windowSize, vmin, vmax, 'Espectrograma do Canal L')\n",
    "        spectroPlot(dataR, samplerate, windowSize, vmin, vmax, 'Espectrograma do Canal R')\n",
    "    else:\n",
    "        spectroPlot(data, samplerate, windowSize, vmin, vmax, 'Espectrograma do Sinal')\n",
    "    "
   ]
  },
  {
   "cell_type": "markdown",
   "metadata": {},
   "source": [
    "### Plotagem de espectrograma de arquivo mono"
   ]
  },
  {
   "cell_type": "code",
   "execution_count": null,
   "metadata": {},
   "outputs": [],
   "source": [
    "file = 'guitar.wav'\n",
    "spectro(file, 512)"
   ]
  },
  {
   "cell_type": "markdown",
   "metadata": {},
   "source": [
    "### Plotagem de espectrogramas de arquivo stereo"
   ]
  },
  {
   "cell_type": "code",
   "execution_count": null,
   "metadata": {},
   "outputs": [],
   "source": [
    "file = 'cover_altj_intro.wav'\n",
    "spectro(file, 1024)"
   ]
  },
  {
   "cell_type": "markdown",
   "metadata": {},
   "source": [
    "### Função de detecção de On-sets - método do conteúdo de alta frequência (HFC)"
   ]
  },
  {
   "cell_type": "code",
   "execution_count": null,
   "metadata": {},
   "outputs": [],
   "source": [
    "def ODF_HFC_PLOT(x_axis, y_axis, canal=\"MONO\"):\n",
    "    plt.figure(figsize=(15,5))\n",
    "    plt.margins(0, 0)\n",
    "    title = \"ODF - Método do conteúdo de alta frequência\"\n",
    "    if canal == \"L\":\n",
    "        title = title + \" - Canal Esquerdo\"\n",
    "    elif canal == \"R\":\n",
    "        title = title + \" - Canal Direito\"\n",
    "    plt.title(title)\n",
    "    plt.ylabel('Diferença energética')\n",
    "    plt.xlabel('Tempo [s]')\n",
    "    plt.plot(y_axis, x_axis, 'g')\n",
    "    plt.show()\n",
    "    \n",
    "def ODF_HFC_CALC(data_np_array, windowSize, overlap):\n",
    "    sizerange = np.arange(1, windowSize+1)\n",
    "    hfc_calc = []\n",
    "    i = 0\n",
    "    while i < data_np_array.shape[0]:\n",
    "        datatmp = data_np_array[i:i + windowSize]\n",
    "        ffttmp = fft.fft(datatmp, n=windowSize)\n",
    "        ffttmp = abs(sizerange)*(abs(ffttmp)**2)\n",
    "        hfc_calc.append(np.sum(abs(ffttmp[0:int(windowSize/2)]))*(2/windowSize))\n",
    "        i = i + int(windowSize*(1-overlap))\n",
    "    return hfc_calc\n",
    "    \n",
    "\n",
    "def ODF_HFC(filename, windowSize, overlap):\n",
    "    samplerate, data = wavfile.read(filename)\n",
    "    f = samplerate/2\n",
    "    qtdSamples = data.shape[0]\n",
    "    window = signal.windows.hann(windowSize)\n",
    "    maxTimeAxis = qtdSamples/samplerate\n",
    "    stepTimeAxis = (windowSize*(1-overlap))/samplerate\n",
    "    timeAxis = np.arange(0.0, maxTimeAxis, stepTimeAxis)\n",
    "    if(data.ndim == 2):\n",
    "        dataL, dataR = separa_stereo(data)\n",
    "        hfcL = ODF_HFC_CALC(dataL, windowSize, overlap)\n",
    "        ODF_HFC_PLOT(hfcL, timeAxis, 'L')\n",
    "        hfcR = ODF_HFC_CALC(dataR, windowSize, overlap)\n",
    "        ODF_HFC_PLOT(hfcR, timeAxis, 'R')\n",
    "    else:\n",
    "        hfc = ODF_HFC_CALC(data, windowSize, overlap)\n",
    "        ODF_HFC_PLOT(hfc, timeAxis) \n",
    "    "
   ]
  },
  {
   "cell_type": "code",
   "execution_count": null,
   "metadata": {},
   "outputs": [],
   "source": [
    "file = 'bat_jean_100bpm.wav'\n",
    "ODF_HFC(file, 2048, 0.5)"
   ]
  },
  {
   "cell_type": "code",
   "execution_count": null,
   "metadata": {},
   "outputs": [],
   "source": [
    "file = 'GaitaTese.wav'\n",
    "ODF_HFC(file, 2048, 0.5)"
   ]
  },
  {
   "cell_type": "code",
   "execution_count": null,
   "metadata": {},
   "outputs": [],
   "source": [
    "file = 'Only Sleeping100bpm(Violao).wav'\n",
    "ODF_HFC(file, 2048, 0.5)"
   ]
  },
  {
   "cell_type": "markdown",
   "metadata": {},
   "source": [
    "### Função de detecção de On-sets - método da diferença espectral (SD)"
   ]
  },
  {
   "cell_type": "code",
   "execution_count": null,
   "metadata": {},
   "outputs": [],
   "source": []
  }
 ],
 "metadata": {
  "colab": {
   "collapsed_sections": [],
   "name": "AC01 - André Paiva.ipynb",
   "provenance": [],
   "toc_visible": true
  },
  "kernelspec": {
   "display_name": "Python 3",
   "language": "python",
   "name": "python3"
  },
  "language_info": {
   "codemirror_mode": {
    "name": "ipython",
    "version": 3
   },
   "file_extension": ".py",
   "mimetype": "text/x-python",
   "name": "python",
   "nbconvert_exporter": "python",
   "pygments_lexer": "ipython3",
   "version": "3.8.3"
  }
 },
 "nbformat": 4,
 "nbformat_minor": 4
}
